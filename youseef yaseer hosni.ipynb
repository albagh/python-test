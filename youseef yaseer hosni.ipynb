{
 "cells": [
  {
   "cell_type": "markdown",
   "id": "a275f109",
   "metadata": {},
   "source": [
    "# List"
   ]
  },
  {
   "cell_type": "code",
   "execution_count": 10,
   "id": "976c7533",
   "metadata": {},
   "outputs": [
    {
     "data": {
      "text/plain": [
       "[1, 2.5, 'Hello', True]"
      ]
     },
     "execution_count": 10,
     "metadata": {},
     "output_type": "execute_result"
    }
   ],
   "source": [
    "my_list = [1,2.5,\"Hello\",True]\n",
    "my_list"
   ]
  },
  {
   "cell_type": "markdown",
   "id": "74afd494",
   "metadata": {},
   "source": [
    "# Tuble"
   ]
  },
  {
   "cell_type": "code",
   "execution_count": 11,
   "id": "20b2c814",
   "metadata": {},
   "outputs": [
    {
     "data": {
      "text/plain": [
       "(1, 3.4, 'Hello', False)"
      ]
     },
     "execution_count": 11,
     "metadata": {},
     "output_type": "execute_result"
    }
   ],
   "source": [
    "my_tuple = (1, 3.4 , \"Hello\" ,False)\n",
    "my_tuple"
   ]
  },
  {
   "cell_type": "markdown",
   "id": "03735330",
   "metadata": {},
   "source": [
    "# Set"
   ]
  },
  {
   "cell_type": "code",
   "execution_count": 27,
   "id": "c61fcbc6",
   "metadata": {},
   "outputs": [
    {
     "data": {
      "text/plain": [
       "{10, 3.4, 3.6, 5, 6, 7, 8, 9, 'Hello', True}"
      ]
     },
     "execution_count": 27,
     "metadata": {},
     "output_type": "execute_result"
    }
   ],
   "source": [
    "my_Set = {5,6,7,8,9,10,3.4,3.6,\"Hello\",True}\n",
    "my_Set"
   ]
  },
  {
   "cell_type": "markdown",
   "id": "5f6e5f41",
   "metadata": {},
   "source": [
    "# dict"
   ]
  },
  {
   "cell_type": "code",
   "execution_count": 9,
   "id": "db776400",
   "metadata": {},
   "outputs": [
    {
     "data": {
      "text/plain": [
       "{'number': 1, 'pi': 3.14, 'greetig': 'Hello', 'is_true': True}"
      ]
     },
     "execution_count": 9,
     "metadata": {},
     "output_type": "execute_result"
    }
   ],
   "source": [
    "my_dict = {\"number\":1 , \"pi\": 3.14 , \"greetig\":\"Hello\", \"is_true\": True}\n",
    "my_dict"
   ]
  },
  {
   "cell_type": "code",
   "execution_count": null,
   "id": "9cdc065a",
   "metadata": {},
   "outputs": [],
   "source": []
  }
 ],
 "metadata": {
  "kernelspec": {
   "display_name": "Python 3 (ipykernel)",
   "language": "python",
   "name": "python3"
  },
  "language_info": {
   "codemirror_mode": {
    "name": "ipython",
    "version": 3
   },
   "file_extension": ".py",
   "mimetype": "text/x-python",
   "name": "python",
   "nbconvert_exporter": "python",
   "pygments_lexer": "ipython3",
   "version": "3.11.3"
  }
 },
 "nbformat": 4,
 "nbformat_minor": 5
}
